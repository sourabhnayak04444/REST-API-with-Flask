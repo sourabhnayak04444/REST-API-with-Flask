{
  "nbformat": 4,
  "nbformat_minor": 0,
  "metadata": {
    "colab": {
      "private_outputs": true,
      "provenance": [],
      "gpuType": "T4",
      "authorship_tag": "ABX9TyN602R3BoU28wPVUIky52ZW",
      "include_colab_link": true
    },
    "kernelspec": {
      "name": "python3",
      "display_name": "Python 3"
    },
    "language_info": {
      "name": "python"
    },
    "accelerator": "GPU"
  },
  "cells": [
    {
      "cell_type": "markdown",
      "metadata": {
        "id": "view-in-github",
        "colab_type": "text"
      },
      "source": [
        "<a href=\"https://colab.research.google.com/github/sourabhnayak04444/REST-API-with-Flask/blob/main/Task_4.ipynb\" target=\"_parent\"><img src=\"https://colab.research.google.com/assets/colab-badge.svg\" alt=\"Open In Colab\"/></a>"
      ]
    },
    {
      "cell_type": "code",
      "execution_count": null,
      "metadata": {
        "id": "AhzQrNpwdYQa"
      },
      "outputs": [],
      "source": [
        "!pip install Flask pyngrok -q\n",
        "!fuser -k 5000/tcp\n",
        "\n",
        "from flask import Flask, request, jsonify\n",
        "from threading import Thread\n",
        "from pyngrok import ngrok\n",
        "import time\n",
        "\n",
        "NGROK_AUTH_TOKEN = \"34VsGOo7Ji2LEAv2WtAVEBmmiO7_J5HVipuFbFmFTy6ugZHs\"\n",
        "if NGROK_AUTH_TOKEN == \"34VsGOo7Ji2LEAv2WtAVEBmmiO7_J5HVipuFbFmFTy6ugZHs\":\n",
        "    print(\"ERROR: Please replace 'YOUR_RAW_NGROK_TOKEN_HERE' with your actual ngrok Auth Token.\")\n",
        "else:\n",
        "    ngrok.set_auth_token(NGROK_AUTH_TOKEN)\n",
        "\n",
        "app = Flask(__name__)\n",
        "PORT = 5000\n",
        "users = {\n",
        "    1: {\"name\": \"Alice\", \"email\": \"alice@example.com\"},\n",
        "    2: {\"name\": \"Bob\", \"email\": \"bob@example.com\"},\n",
        "}\n",
        "next_id = 3\n",
        "\n",
        "@app.route('/')\n",
        "def home():\n",
        "    return \"User Management API is running!\"\n",
        "\n",
        "@app.route('/users', methods=['GET', 'POST'])\n",
        "def manage_users():\n",
        "    global next_id\n",
        "    if request.method == 'POST':\n",
        "        data = request.json\n",
        "        if not data or 'name' not in data or 'email' not in data:\n",
        "            return jsonify({\"error\": \"Missing name or email\"}), 400\n",
        "\n",
        "        user_id = next_id\n",
        "        new_user = {\"name\": data['name'], \"email\": data['email']}\n",
        "        users[user_id] = new_user\n",
        "        next_id += 1\n",
        "        return jsonify({\"id\": user_id, **new_user}), 201\n",
        "\n",
        "    user_list = [{\"id\": uid, **data} for uid, data in users.items()]\n",
        "    return jsonify(user_list), 200\n",
        "\n",
        "@app.route('/users/<int:user_id>', methods=['GET', 'PUT', 'DELETE'])\n",
        "def manage_specific_user(user_id):\n",
        "    if user_id not in users:\n",
        "        return jsonify({\"error\": \"User not found\"}), 404\n",
        "\n",
        "    if request.method == 'GET':\n",
        "        return jsonify({\"id\": user_id, **users[user_id]}), 200\n",
        "\n",
        "    elif request.method == 'PUT':\n",
        "        data = request.json\n",
        "        if not data:\n",
        "            return jsonify({\"error\": \"Request body is empty\"}), 400\n",
        "\n",
        "        if 'name' in data:\n",
        "            users[user_id]['name'] = data['name']\n",
        "        if 'email' in data:\n",
        "            users[user_id]['email'] = data['email']\n",
        "\n",
        "        return jsonify({\"message\": \"User updated\", \"user\": {\"id\": user_id, **users[user_id]}}), 200\n",
        "\n",
        "    elif request.method == 'DELETE':\n",
        "        del users[user_id]\n",
        "        return jsonify({\"message\": \"User deleted\"}), 204\n",
        "\n",
        "def run_flask():\n",
        "    app.run(port=PORT, use_reloader=False)\n",
        "\n",
        "flask_thread = Thread(target=run_flask)\n",
        "flask_thread.start()\n",
        "time.sleep(2)\n",
        "try:\n",
        "    public_url = ngrok.connect(PORT)\n",
        "    print(f\"Your API is LIVE at: {public_url}\")\n",
        "    print(\"You can use this URL with Postman or cURL to test your endpoints.\")\n",
        "except Exception as e:\n",
        "    print(f\"ngrok connection failed: {e}\")\n",
        "    print(\"Please check your NGROK_AUTH_TOKEN.\")"
      ]
    },
    {
      "cell_type": "code",
      "source": [
        "NGROK_URL = \"https://archangelical-claudette-rabidly.ngrok-free.dev\"\n",
        "print(\"--- 1. Check API Status (GET /) ---\")\n",
        "!curl {NGROK_URL}/\n",
        "print(\"\\n\\n--- 2. GET (All Users) ---\")\n",
        "!curl {NGROK_URL}/users\n",
        "\n",
        "print(\"\\n\\n--- 3. PUT (Update User 3) ---\")\n",
        "!curl -X PUT -H \"Content-Type: application/json\" \\\n",
        "  -d '{\"name\":\"Updated User Name\", \"email\":\"updated@email.com\"}' \\\n",
        "  {NGROK_URL}/users/3\n",
        "\n",
        "print(\"\\n\\n--- 4. GET (Specific User 3) ---\")\n",
        "!curl {NGROK_URL}/users/3\n",
        "\n",
        "print(\"\\n\\n--- 5. DELETE (Delete User 3) ---\")\n",
        "!curl -X DELETE {NGROK_URL}/users/3\n",
        "\n",
        "print(\"\\n\\n--- 6. GET (All Users - Confirming Delete) ---\")\n",
        "!curl {NGROK_URL}/users"
      ],
      "metadata": {
        "id": "bTncAqFLYPLB"
      },
      "execution_count": null,
      "outputs": []
    },
    {
      "cell_type": "code",
      "source": [],
      "metadata": {
        "id": "aLGvYVZ8Yw54"
      },
      "execution_count": null,
      "outputs": []
    }
  ]
}